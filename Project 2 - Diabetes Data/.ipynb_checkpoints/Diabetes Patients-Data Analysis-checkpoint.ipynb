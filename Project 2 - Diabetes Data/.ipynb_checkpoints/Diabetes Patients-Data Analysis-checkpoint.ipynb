{
 "cells": [
  {
   "cell_type": "markdown",
   "id": "0bc329b6-395a-4068-a4f4-e442738eb6fd",
   "metadata": {},
   "source": [
    "## Diagnostic Prediction for Diabetes"
   ]
  },
  {
   "cell_type": "markdown",
   "id": "b620c546-d33e-4aa4-b571-88e4757c9dc1",
   "metadata": {},
   "source": [
    "The objective of the dataset is to diagnostically predict whether a patient has diabetes\n",
    "based on certain diagnostic measurements included in the dataset."
   ]
  },
  {
   "cell_type": "code",
   "execution_count": null,
   "id": "31caa8ec-f759-4e88-a85d-1056e9ed0a63",
   "metadata": {},
   "outputs": [],
   "source": [
    "#Importing required libraries\n",
    "import pandas as pd\n",
    "import numpy as np\n",
    "import matplotlib.pyplot as plt\n",
    "import seaborn as sns"
   ]
  },
  {
   "cell_type": "code",
   "execution_count": 2,
   "id": "5eaa5c3d-d5aa-4c9d-bfff-99420ad6858d",
   "metadata": {},
   "outputs": [],
   "source": [
    "# Pandas: Data analysis and manipulation library for working with structured \n",
    "# data using Data Frame and Series.\n",
    "# NumPy: Numerical computing library supporting large, multi-dimensional \n",
    "# arrays and matrices, with high-level mathematical functions.\n",
    "# Seaborn: Statistical data visualization library for creating attractive and \n",
    "# informative graphics, based on Matplotlib.\n",
    "# Matplotlib: Comprehensive plotting library providing interface for creating \n",
    "# various plots like line, scatter, bar, and histograms"
   ]
  },
  {
   "cell_type": "code",
   "execution_count": 4,
   "id": "87ff94c7-7e8a-4c6e-97cf-352e7b169c8b",
   "metadata": {},
   "outputs": [],
   "source": [
    "# IMPORTING IMPORTANT LIBRARIES FOR PREDICTION\n",
    "from sklearn.model_selection import train_test_split\n",
    "from sklearn.linear_model import LogisticRegression\n",
    "from sklearn.metrics import accuracy_score"
   ]
  },
  {
   "cell_type": "code",
   "execution_count": 5,
   "id": "dd776418-0323-4018-bd55-8a5da42ebeb8",
   "metadata": {},
   "outputs": [],
   "source": [
    "# Train Test Split: Technique for splitting data into training and testing sets \n",
    "# to assess model performance.\n",
    "# Logistic Regression: Method for predicting the probability of a binary \n",
    "# outcome using the logistic function.\n",
    "# Accuracy: Metric measuring the proportion of correctly classified instances in \n",
    "# a classification model.\n",
    "# Sklearn: Python's Scikit-learn, a powerful machine learning library providing \n",
    "# tools for data analysis and model building."
   ]
  },
  {
   "cell_type": "code",
   "execution_count": null,
   "id": "dbe9db4d-207e-4906-96af-d9d60a185e9c",
   "metadata": {},
   "outputs": [],
   "source": [
    "dataset= pd.read_csv('')"
   ]
  }
 ],
 "metadata": {
  "kernelspec": {
   "display_name": "Python 3 (ipykernel)",
   "language": "python",
   "name": "python3"
  },
  "language_info": {
   "codemirror_mode": {
    "name": "ipython",
    "version": 3
   },
   "file_extension": ".py",
   "mimetype": "text/x-python",
   "name": "python",
   "nbconvert_exporter": "python",
   "pygments_lexer": "ipython3",
   "version": "3.12.2"
  }
 },
 "nbformat": 4,
 "nbformat_minor": 5
}
